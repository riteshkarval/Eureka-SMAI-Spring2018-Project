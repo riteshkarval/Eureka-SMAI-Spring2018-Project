{
 "cells": [
  {
   "cell_type": "code",
   "execution_count": 1,
   "metadata": {},
   "outputs": [],
   "source": [
    "import pickle\n",
    "import pandas as pd\n",
    "import numpy as np\n",
    "import nltk"
   ]
  },
  {
   "cell_type": "code",
   "execution_count": 2,
   "metadata": {},
   "outputs": [],
   "source": [
    "with open('reviews.pkl', 'rb') as handle:\n",
    "    data = pickle.load(handle)"
   ]
  },
  {
   "cell_type": "code",
   "execution_count": 3,
   "metadata": {},
   "outputs": [],
   "source": [
    "titles = list(data.keys())"
   ]
  },
  {
   "cell_type": "code",
   "execution_count": 4,
   "metadata": {},
   "outputs": [],
   "source": [
    "train_titles = titles#[:250]\n",
    "test_titles = titles[250:]\n",
    "text = 'i am batman'"
   ]
  },
  {
   "cell_type": "code",
   "execution_count": 5,
   "metadata": {},
   "outputs": [],
   "source": [
    "reviews = []\n",
    "bi_reviews = []\n",
    "ratings = []\n",
    "vocab = []\n",
    "bi_vocab = []\n",
    "lengths = []\n",
    "for each_title in train_titles:\n",
    "    r_pair = data[each_title]\n",
    "    for each_pair in r_pair:\n",
    "        reviews.append(each_pair[0])        \n",
    "        ratings.append(int(each_pair[1]))\n",
    "        vocab += each_pair[0].split()\n",
    "        lengths.append(len(each_pair[0].split()))\n",
    "        \n",
    "        bi_reviews.append(list(nltk.bigrams(each_pair[0].split())))\n",
    "        bi_vocab += list(nltk.bigrams(each_pair[0].split()))\n",
    "# for each_title in test_titles:\n",
    "#     r_pair = data[each_title]\n",
    "#     for each_pair in r_pair:\n",
    "#         vocab += each_pair[0].split()\n",
    "#         lengths.append(len(each_pair[0].split()))"
   ]
  },
  {
   "cell_type": "code",
   "execution_count": 6,
   "metadata": {},
   "outputs": [
    {
     "data": {
      "text/plain": [
       "347.11189099917425"
      ]
     },
     "execution_count": 6,
     "metadata": {},
     "output_type": "execute_result"
    }
   ],
   "source": [
    "np.mean(lengths)"
   ]
  },
  {
   "cell_type": "code",
   "execution_count": 8,
   "metadata": {},
   "outputs": [
    {
     "name": "stdout",
     "output_type": "stream",
     "text": [
      "7266\n"
     ]
    }
   ],
   "source": [
    "print(len(ratings))"
   ]
  },
  {
   "cell_type": "code",
   "execution_count": 9,
   "metadata": {},
   "outputs": [],
   "source": [
    "ratings = np.asarray(ratings)\n",
    "rat_mean = int(np.mean(ratings))\n",
    "count = 0\n",
    "for i in range(0,len(ratings)):\n",
    "    if ratings[i] == 0:\n",
    "        ratings[i] = rat_mean\n",
    "        count += 1"
   ]
  },
  {
   "cell_type": "code",
   "execution_count": 11,
   "metadata": {},
   "outputs": [
    {
     "data": {
      "image/png": "[encoded data removed]",
      "text/plain": [
       "<Figure size 432x288 with 1 Axes>"
      ]
     },
     "metadata": {
      "needs_background": "light"
     },
     "output_type": "display_data"
    }
   ],
   "source": [
    "from collections import Counter\n",
    "import numpy as np\n",
    "import matplotlib.pyplot as plt\n",
    "\n",
    "word_list = ratings\n",
    "counts = Counter(word_list)\n",
    "labels, values = zip(*counts.items())\n",
    "indSort = np.argsort(values)[::-1]\n",
    "labels = np.array(labels)[indSort]\n",
    "values = np.array(values)[indSort]\n",
    "indexes = np.arange(len(labels))\n",
    "\n",
    "bar_width = 0.35\n",
    "\n",
    "plt.bar(indexes, values)\n",
    "\n",
    "plt.xticks(indexes + bar_width, labels)\n",
    "plt.show()\n"
   ]
  },
  {
   "cell_type": "code",
   "execution_count": 12,
   "metadata": {},
   "outputs": [
    {
     "data": {
      "text/plain": [
       "array([3157, 1419, 1027,  623,  423,  177,  143,  108,   97,   92])"
      ]
     },
     "execution_count": 12,
     "metadata": {},
     "output_type": "execute_result"
    }
   ],
   "source": [
    "values"
   ]
  },
  {
   "cell_type": "code",
   "execution_count": 150,
   "metadata": {},
   "outputs": [],
   "source": [
    "word_indices = dict((c, i) for i, c in enumerate(bi_vocab))"
   ]
  },
  {
   "cell_type": "code",
   "execution_count": 151,
   "metadata": {},
   "outputs": [],
   "source": [
    "maxlen = 350\n",
    "X = np.zeros((len(ratings),maxlen),dtype = 'int')\n",
    "Y = np.zeros((len(reviews),10))"
   ]
  },
  {
   "cell_type": "code",
   "execution_count": 152,
   "metadata": {},
   "outputs": [],
   "source": [
    "for i in range(len(ratings)):\n",
    "    r_words = bi_reviews[i]\n",
    "    r_len = len(r_words)\n",
    "    w_len = 0\n",
    "    if r_len > maxlen:\n",
    "        w_len = maxlen\n",
    "    else:\n",
    "        w_len = r_len\n",
    "    for j in range(w_len):\n",
    "        X[i,j] = word_indices[r_words[j]]\n",
    "    Y[i,int(ratings[i])-1] = 1"
   ]
  },
  {
   "cell_type": "code",
   "execution_count": 153,
   "metadata": {},
   "outputs": [],
   "source": [
    "Y = ratings/10\n",
    "novs = int(len(ratings)*0.8)\n",
    "X_train, Y_train, X_val, Y_val = X[:novs], Y[:novs],X[novs:],Y[novs:]"
   ]
  },
  {
   "cell_type": "code",
   "execution_count": 154,
   "metadata": {},
   "outputs": [
    {
     "name": "stdout",
     "output_type": "stream",
     "text": [
      "(7266, 350) (5812, 350) (1454, 350)\n"
     ]
    }
   ],
   "source": [
    "print(X.shape, X_train.shape,X_val.shape)"
   ]
  },
  {
   "cell_type": "code",
   "execution_count": 155,
   "metadata": {},
   "outputs": [],
   "source": [
    "from keras.preprocessing import sequence\n",
    "from keras.models import Sequential\n",
    "from keras.layers import Dense, Embedding\n",
    "from keras.layers import LSTM,GRU"
   ]
  },
  {
   "cell_type": "code",
   "execution_count": 156,
   "metadata": {},
   "outputs": [],
   "source": [
    "batch_size = 128\n",
    "max_features = 10000#len(vocab)\n",
    "X = sequence.pad_sequences(X, maxlen=maxlen)"
   ]
  },
  {
   "cell_type": "code",
   "execution_count": 157,
   "metadata": {},
   "outputs": [],
   "source": [
    "model = Sequential()\n",
    "model.add(Embedding(max_features, 128))\n",
    "model.add(GRU(128, return_sequences=False))\n",
    "model.add(Dense(1,activation='sigmoid'))\n",
    "model.compile(loss='mse',optimizer='adam',metrics=['accuracy'])"
   ]
  },
  {
   "cell_type": "code",
   "execution_count": 158,
   "metadata": {},
   "outputs": [
    {
     "name": "stdout",
     "output_type": "stream",
     "text": [
      "Train on 5812 samples, validate on 1454 samples\n",
      "Epoch 1/4\n",
      "5812/5812 [==============================] - 23s 4ms/step - loss: 0.0861 - acc: 0.4563 - val_loss: 0.0741 - val_acc: 0.3116\n",
      "Epoch 2/4\n",
      "5812/5812 [==============================] - 19s 3ms/step - loss: 0.0818 - acc: 0.4652 - val_loss: nan - val_acc: 0.3116\n",
      "Epoch 3/4\n",
      "5812/5812 [==============================] - 19s 3ms/step - loss: 0.0912 - acc: 0.4652 - val_loss: nan - val_acc: 0.3116\n",
      "Epoch 4/4\n",
      "5812/5812 [==============================] - 19s 3ms/step - loss: 0.0912 - acc: 0.4652 - val_loss: nan - val_acc: 0.3116\n",
      "1454/1454 [==============================] - 1s 923us/step\n",
      "Test score: nan\n",
      "Test accuracy: 0.31155433279284095\n"
     ]
    }
   ],
   "source": [
    "model.fit(X_train, Y_train,batch_size=batch_size,epochs=4,validation_data=(X_val, Y_val))\n",
    "score, acc = model.evaluate(X_val, Y_val,batch_size=batch_size)\n",
    "print('Test score:', score)\n",
    "print('Test accuracy:', acc)"
   ]
  },
  {
   "cell_type": "code",
   "execution_count": 159,
   "metadata": {},
   "outputs": [
    {
     "name": "stdout",
     "output_type": "stream",
     "text": [
      "[10.]\n",
      "[10.]\n",
      "[10.]\n",
      "[10.]\n",
      "[10.]\n",
      "[10.]\n",
      "[10.]\n",
      "[10.]\n",
      "[10.]\n",
      "[10.]\n",
      "[10.]\n",
      "[10.]\n",
      "[10.]\n",
      "[10.]\n",
      "[10.]\n",
      "[10.]\n",
      "[10.]\n",
      "[10.]\n",
      "[10.]\n",
      "[10.]\n",
      "[10.]\n",
      "[10.]\n",
      "[10.]\n",
      "[10.]\n",
      "[10.]\n",
      "[10.]\n",
      "[10.]\n",
      "[10.]\n",
      "[10.]\n",
      "[10.]\n",
      "[10.]\n",
      "[10.]\n",
      "[10.]\n",
      "[10.]\n",
      "[10.]\n",
      "[10.]\n",
      "[10.]\n",
      "[10.]\n",
      "[10.]\n",
      "[10.]\n",
      "[10.]\n",
      "[10.]\n",
      "[10.]\n",
      "[10.]\n",
      "[10.]\n",
      "[10.]\n",
      "[10.]\n",
      "[10.]\n",
      "[10.]\n",
      "[10.]\n",
      "[10.]\n",
      "[10.]\n",
      "[10.]\n",
      "[10.]\n",
      "[10.]\n",
      "[10.]\n",
      "[10.]\n",
      "[10.]\n",
      "[10.]\n",
      "[10.]\n",
      "[10.]\n",
      "[10.]\n",
      "[10.]\n",
      "[10.]\n",
      "[10.]\n",
      "[10.]\n",
      "[10.]\n",
      "[10.]\n",
      "[10.]\n",
      "[10.]\n",
      "[10.]\n",
      "[10.]\n",
      "[10.]\n",
      "[10.]\n",
      "[10.]\n",
      "[10.]\n",
      "[10.]\n",
      "[10.]\n",
      "[10.]\n",
      "[10.]\n",
      "[10.]\n",
      "[10.]\n",
      "[10.]\n",
      "[10.]\n",
      "[10.]\n",
      "[10.]\n",
      "[10.]\n",
      "[10.]\n",
      "[10.]\n",
      "[10.]\n",
      "[10.]\n",
      "[10.]\n",
      "[10.]\n",
      "[10.]\n",
      "[10.]\n",
      "[10.]\n",
      "[10.]\n",
      "[10.]\n",
      "[10.]\n",
      "[10.]\n"
     ]
    }
   ],
   "source": [
    "preds = model.predict(X_train[900:1000])\n",
    "for pred in preds:\n",
    "#     print(np.argmax(preds[0]))\n",
    "    print(pred*10)"
   ]
  }
 ],
 "metadata": {
  "kernelspec": {
   "display_name": "Python 3",
   "language": "python",
   "name": "python3"
  },
  "language_info": {
   "codemirror_mode": {
    "name": "ipython",
    "version": 3
   },
   "file_extension": ".py",
   "mimetype": "text/x-python",
   "name": "python",
   "nbconvert_exporter": "python",
   "pygments_lexer": "ipython3",
   "version": "3.6.7"
  }
 },
 "nbformat": 4,
 "nbformat_minor": 2
}
