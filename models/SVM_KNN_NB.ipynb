{
 "cells": [
  {
   "cell_type": "code",
   "execution_count": 1,
   "metadata": {},
   "outputs": [],
   "source": [
    "from nltk.tokenize import word_tokenize, sent_tokenize \n",
    "from nltk import pos_tag\n",
    "from nltk.corpus import stopwords\n",
    "from sklearn.feature_extraction.text import TfidfVectorizer, CountVectorizer\n",
    "from sklearn.model_selection import train_test_split\n",
    "from sklearn.svm import LinearSVC, SVC\n",
    "from sklearn.linear_model import SGDClassifier\n",
    "from sklearn.neighbors import KNeighborsClassifier\n",
    "from sklearn.naive_bayes import MultinomialNB, GaussianNB\n",
    "from sklearn.metrics import accuracy_score, classification_report, confusion_matrix\n",
    "import pandas as pd\n",
    "import numpy as np\n",
    "from IPython.display import display\n",
    "import matplotlib.pyplot as plt\n",
    "import itertools\n",
    "import plotly.graph_objs as go\n",
    "from plotly.offline import iplot, init_notebook_mode\n",
    "import pickle\n",
    "from numpy.random import shuffle"
   ]
  },
  {
   "cell_type": "code",
   "execution_count": 2,
   "metadata": {},
   "outputs": [],
   "source": [
    "with open('reviews.pkl', 'rb') as handle:\n",
    "    data = pickle.load(handle)\n",
    "titles = list(data.keys())\n",
    "shuffle(titles)\n",
    "train_titles = titles[:250]\n",
    "test_titles = titles[250:]"
   ]
  },
  {
   "cell_type": "code",
   "execution_count": 3,
   "metadata": {},
   "outputs": [
    {
     "data": {
      "text/plain": [
       "295"
      ]
     },
     "execution_count": 3,
     "metadata": {},
     "output_type": "execute_result"
    }
   ],
   "source": [
    "len(titles)"
   ]
  },
  {
   "cell_type": "code",
   "execution_count": 4,
   "metadata": {},
   "outputs": [],
   "source": [
    "reviews = []\n",
    "ratings = []\n",
    "vocab = []\n",
    "lengths = []\n",
    "review_counts = {}\n",
    "for each_title in titles:\n",
    "    r_pair = data[each_title]\n",
    "    count = 0\n",
    "    for each_pair in r_pair:\n",
    "        if each_pair[1] != '0':\n",
    "            reviews.append(each_pair[0])\n",
    "            ratings.append(int(each_pair[1]))\n",
    "            vocab += each_pair[0].split()\n",
    "            lengths.append(len(each_pair[0].split()))\n",
    "            count += 1\n",
    "    review_counts[each_title] = count"
   ]
  },
  {
   "cell_type": "code",
   "execution_count": 5,
   "metadata": {},
   "outputs": [
    {
     "data": {
      "image/png": "[encoded data removed]",
      "text/plain": [
       "<Figure size 432x288 with 1 Axes>"
      ]
     },
     "metadata": {
      "needs_background": "light"
     },
     "output_type": "display_data"
    }
   ],
   "source": [
    "from collections import Counter\n",
    "import numpy as np\n",
    "import matplotlib.pyplot as plt\n",
    "\n",
    "word_list = ratings\n",
    "counts = Counter(word_list)\n",
    "labels, values = zip(*counts.items())\n",
    "indSort = np.argsort(values)[::-1]\n",
    "labels = np.array(labels)[indSort]\n",
    "values = np.array(values)[indSort]\n",
    "indexes = np.arange(len(labels))\n",
    "\n",
    "bar_width = 0.35\n",
    "\n",
    "plt.bar(indexes, values)\n",
    "\n",
    "plt.xticks(indexes + bar_width, labels)\n",
    "plt.show()"
   ]
  },
  {
   "cell_type": "code",
   "execution_count": 6,
   "metadata": {},
   "outputs": [
    {
     "data": {
      "text/plain": [
       "6174"
      ]
     },
     "execution_count": 6,
     "metadata": {},
     "output_type": "execute_result"
    }
   ],
   "source": [
    "len(reviews)"
   ]
  },
  {
   "cell_type": "code",
   "execution_count": 7,
   "metadata": {},
   "outputs": [],
   "source": [
    "def cleanme(txt):\n",
    "    sent = txt.lower()\n",
    "    wrds = word_tokenize(sent)\n",
    "    clwrds = [w for w in wrds if not w in stopwords.words('english')]\n",
    "    ln = len(clwrds)\n",
    "    pos = pd.DataFrame(pos_tag(wrds))\n",
    "    pos = \" \".join(list(pos[pos[1].str.contains(\"JJ\")].iloc[:,0]))\n",
    "    rt = [ln, \" \".join(clwrds), pos]\n",
    "    return(rt)"
   ]
  },
  {
   "cell_type": "code",
   "execution_count": 8,
   "metadata": {},
   "outputs": [],
   "source": [
    "vect = TfidfVectorizer(ngram_range = (1,2))\n",
    "x_vect1 = vect.fit_transform(reviews)"
   ]
  },
  {
   "cell_type": "code",
   "execution_count": 9,
   "metadata": {},
   "outputs": [],
   "source": [
    "movie_vec = {}\n",
    "test_count = 0\n",
    "train_count = 0\n",
    "g_count = 0\n",
    "for each_title in train_titles:\n",
    "    movie_vec[each_title] = x_vect1[g_count : g_count+review_counts[each_title]]\n",
    "    g_count += review_counts[each_title] \n",
    "    \n",
    "train_count = g_count\n",
    "for each_title in test_titles:\n",
    "    movie_vec[each_title] = x_vect1[g_count : g_count+review_counts[each_title]]\n",
    "    g_count += review_counts[each_title] \n",
    "test_count = g_count - train_count"
   ]
  },
  {
   "cell_type": "code",
   "execution_count": 10,
   "metadata": {},
   "outputs": [
    {
     "name": "stdout",
     "output_type": "stream",
     "text": [
      "5255 919\n"
     ]
    }
   ],
   "source": [
    "print(train_count,test_count)"
   ]
  },
  {
   "cell_type": "code",
   "execution_count": 13,
   "metadata": {},
   "outputs": [],
   "source": [
    "def linsvc(x,y):\n",
    "    x_train, x_test, y_train, y_test = train_test_split(x, y, test_size=0.25, random_state = 10)\n",
    "    classf = LinearSVC(class_weight='balanced')\n",
    "    classf.fit(x_train, y_train)\n",
    "    pred = classf.predict(x_train)\n",
    "    print(\"Linear SVC Train Accuracy:\",accuracy_score(y_train, pred))\n",
    "    pred = classf.predict(x_test)\n",
    "    print(\"Linear SVC Test Accuracy:\",accuracy_score(y_test, pred))\n",
    "    return(y_test, pred, classf)\n",
    "\n",
    "def revknn(x,y):\n",
    "    x_train, x_test, y_train, y_test = train_test_split(x, y, test_size=0.25, random_state = 10)\n",
    "    classf = KNeighborsClassifier(n_neighbors=2)\n",
    "    classf.fit(x_train, y_train)\n",
    "    pred = classf.predict(x_train)\n",
    "    print(\"KNN Train Accuracy:\",accuracy_score(y_train, pred))\n",
    "    pred = classf.predict(x_test)\n",
    "    print(\"KNN Test Accuracy:\",accuracy_score(y_test, pred))\n",
    "    return(y_test, pred, classf)\n",
    "\n",
    "def revnb(x,y):\n",
    "    x_train, x_test, y_train, y_test = train_test_split(x, y, test_size=0.25, random_state = 10)\n",
    "    classf = MultinomialNB()\n",
    "    classf.fit(x_train, y_train)\n",
    "    pred = classf.predict(x_train)\n",
    "    print(\"NB Train Accuracy:\",accuracy_score(y_train, pred))\n",
    "    pred = classf.predict(x_test)\n",
    "    print(\"NB Test Accuracy:\",accuracy_score(y_test, pred))\n",
    "    return(y_test, pred, classf)"
   ]
  },
  {
   "cell_type": "code",
   "execution_count": 14,
   "metadata": {},
   "outputs": [
    {
     "name": "stdout",
     "output_type": "stream",
     "text": [
      "Linear SVC Train Accuracy: 1.0\n",
      "Linear SVC Test Accuracy: 0.5616438356164384\n",
      "KNN Train Accuracy: 0.7665567114945445\n",
      "KNN Test Accuracy: 0.3059360730593607\n",
      "NB Train Accuracy: 0.5135752347120021\n",
      "NB Test Accuracy: 0.5197869101978692\n"
     ]
    }
   ],
   "source": [
    "y = ratings\n",
    "svmy1,svmp1,SVMclf = linsvc(x_vect1[:train_count],y[:train_count])\n",
    "\n",
    "knny1,knnp1, KNNclf = revknn(x_vect1[:train_count],y[:train_count])\n",
    "\n",
    "nby1,nbp1, NBclf = revnb(x_vect1[:train_count],y[:train_count])"
   ]
  },
  {
   "cell_type": "code",
   "execution_count": 15,
   "metadata": {},
   "outputs": [
    {
     "name": "stdout",
     "output_type": "stream",
     "text": [
      "Movie Title:  Salinui chueok (2003)\n",
      "=====>Actual Rating: 8.869565217391305\n",
      "=====>SVM rating: 9.521739130434783 KNN rating: 7.043478260869565 NB rating: 10.0\n",
      "\n",
      "\n",
      "\n",
      "Movie Title:  Vergiss mein nicht (2004)\n",
      "=====>Actual Rating: 7.6521739130434785\n",
      "=====>SVM rating: 9.08695652173913 KNN rating: 8.73913043478261 NB rating: 10.0\n",
      "\n",
      "\n",
      "\n",
      "Movie Title:  Rang De Basanti (2006)\n",
      "=====>Actual Rating: 7.88\n",
      "=====>SVM rating: 9.64 KNN rating: 8.68 NB rating: 10.0\n",
      "\n",
      "\n",
      "\n",
      "Movie Title:  Das Schweigen der Lämmer (1991)\n",
      "=====>Actual Rating: 9.777777777777779\n",
      "=====>SVM rating: 9.944444444444445 KNN rating: 8.5 NB rating: 10.0\n",
      "\n",
      "\n",
      "\n",
      "Movie Title:  Oldboy (2003)\n",
      "=====>Actual Rating: 6.791666666666667\n",
      "=====>SVM rating: 8.083333333333334 KNN rating: 9.291666666666666 NB rating: 10.0\n",
      "\n",
      "\n",
      "\n",
      "Movie Title:  Der eiskalte Engel (1967)\n",
      "=====>Actual Rating: 7.454545454545454\n",
      "=====>SVM rating: 7.7727272727272725 KNN rating: 7.681818181818182 NB rating: 10.0\n",
      "\n",
      "\n",
      "\n",
      "Movie Title:  Mord - Sir John greift ein! (1930)\n",
      "=====>Actual Rating: 6.681818181818182\n",
      "=====>SVM rating: 8.590909090909092 KNN rating: 7.818181818181818 NB rating: 10.0\n",
      "\n",
      "\n",
      "\n",
      "Movie Title:  Heat (1995)\n",
      "=====>Actual Rating: 8.636363636363637\n",
      "=====>SVM rating: 8.363636363636363 KNN rating: 8.409090909090908 NB rating: 10.0\n",
      "\n",
      "\n",
      "\n",
      "Movie Title:  Black Swan (2010)\n",
      "=====>Actual Rating: 5.625\n",
      "=====>SVM rating: 7.75 KNN rating: 8.0 NB rating: 10.0\n",
      "\n",
      "\n",
      "\n",
      "Movie Title:  Bei Anruf Mord (1954)\n",
      "=====>Actual Rating: 7.590909090909091\n",
      "=====>SVM rating: 8.5 KNN rating: 8.181818181818182 NB rating: 10.0\n",
      "\n",
      "\n",
      "\n"
     ]
    }
   ],
   "source": [
    "import statistics\n",
    "for each_title in test_titles[:10]:\n",
    "    rtgs = []\n",
    "    for each_pair in data[each_title]:\n",
    "        if each_pair[1] != '0':\n",
    "            rtgs.append(int(each_pair[1]))\n",
    "    if movie_vec[each_title].shape[0] > 1:\n",
    "        svm_preds = SVMclf.predict(movie_vec[each_title])\n",
    "        knn_preds = KNNclf.predict(movie_vec[each_title])\n",
    "        nb_preds = NBclf.predict(movie_vec[each_title])\n",
    "        print('Movie Title: ', each_title)\n",
    "        print('=====>Actual Rating:',statistics.mean(rtgs))\n",
    "        print('=====>SVM rating:',np.mean(svm_preds),'KNN rating:',np.mean(knn_preds),'NB rating:',np.mean(nb_preds))\n",
    "        print('\\n\\n')"
   ]
  },
  {
   "cell_type": "code",
   "execution_count": 16,
   "metadata": {},
   "outputs": [],
   "source": [
    "def plot_confusion_matrix(cm, classes,\n",
    "                          title='Confusion matrix',\n",
    "                          cmap=plt.cm.Blues):\n",
    "    plt.imshow(cm, interpolation='nearest', cmap=cmap)\n",
    "    plt.title(title)\n",
    "    plt.colorbar()\n",
    "    tick_marks = np.arange(len(classes))\n",
    "    plt.xticks(tick_marks, classes, rotation=45)\n",
    "    plt.yticks(tick_marks, classes)\n",
    "\n",
    "    thresh = cm.max() / 2.\n",
    "    for i, j in itertools.product(range(cm.shape[0]), range(cm.shape[1])):\n",
    "        plt.text(j, i, cm[i, j],\n",
    "                 horizontalalignment=\"center\",\n",
    "                 color=\"white\" if cm[i, j] > thresh else \"black\")\n",
    "\n",
    "    plt.tight_layout()\n",
    "    plt.ylabel('True label')\n",
    "    plt.xlabel('Predicted label')"
   ]
  },
  {
   "cell_type": "code",
   "execution_count": 17,
   "metadata": {},
   "outputs": [
    {
     "data": {
      "image/png": "[encoded data removed]",
      "text/plain": [
       "<Figure size 432x288 with 2 Axes>"
      ]
     },
     "metadata": {
      "needs_background": "light"
     },
     "output_type": "display_data"
    },
    {
     "data": {
      "image/png": "[encoded data removed]",
      "text/plain": [
       "<Figure size 432x288 with 2 Axes>"
      ]
     },
     "metadata": {
      "needs_background": "light"
     },
     "output_type": "display_data"
    },
    {
     "data": {
      "image/png": "[encoded data removed]",
      "text/plain": [
       "<Figure size 432x288 with 2 Axes>"
      ]
     },
     "metadata": {
      "needs_background": "light"
     },
     "output_type": "display_data"
    }
   ],
   "source": [
    "c1 = confusion_matrix(svmy1,svmp1)\n",
    "c2 = confusion_matrix(knny1,knnp1)\n",
    "c3 = confusion_matrix(nby1,nbp1)\n",
    "class_names = ['1', '2', '3', '4', '5','6','7','8','9','10']\n",
    "plt.figure()\n",
    "plot_confusion_matrix(c1, classes=class_names,title='Confusion matrix - SVM')\n",
    "plt.figure()\n",
    "plot_confusion_matrix(c2, classes=class_names,title='Confusion matrix - KNN')\n",
    "plt.figure()\n",
    "plot_confusion_matrix(c3, classes=class_names,title='Confusion matrix - NB')\n"
   ]
  },
  {
   "cell_type": "code",
   "execution_count": null,
   "metadata": {},
   "outputs": [],
   "source": []
  }
 ],
 "metadata": {
  "kernelspec": {
   "display_name": "Python 3",
   "language": "python",
   "name": "python3"
  },
  "language_info": {
   "codemirror_mode": {
    "name": "ipython",
    "version": 3
   },
   "file_extension": ".py",
   "mimetype": "text/x-python",
   "name": "python",
   "nbconvert_exporter": "python",
   "pygments_lexer": "ipython3",
   "version": "3.6.7"
  }
 },
 "nbformat": 4,
 "nbformat_minor": 2
}
