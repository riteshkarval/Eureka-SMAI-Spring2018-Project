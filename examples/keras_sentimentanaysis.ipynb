{
  "nbformat": 4,
  "nbformat_minor": 0,
  "metadata": {
    "colab": {
      "name": "keras_sentimentanaysis.ipynb",
      "version": "0.3.2",
      "provenance": [],
      "collapsed_sections": []
    },
    "kernelspec": {
      "name": "python3",
      "display_name": "Python 3"
    },
    "accelerator": "GPU"
  },
  "cells": [
    {
      "metadata": {
        "id": "SHili0pnhxxM",
        "colab_type": "code",
        "colab": {
          "base_uri": "https://localhost:8080/",
          "height": 34
        },
        "outputId": "6ed12ba5-954b-49e0-8698-1f5a349262b9"
      },
      "cell_type": "code",
      "source": [
        "from keras.preprocessing import sequence\n",
        "from keras.models import Sequential\n",
        "from keras.layers import Dense, Embedding\n",
        "from keras.layers import LSTM\n",
        "from keras.datasets import imdb"
      ],
      "execution_count": 1,
      "outputs": [
        {
          "output_type": "stream",
          "text": [
            "Using TensorFlow backend.\n"
          ],
          "name": "stderr"
        }
      ]
    },
    {
      "metadata": {
        "id": "40QRiKImiEm8",
        "colab_type": "code",
        "colab": {
          "base_uri": "https://localhost:8080/",
          "height": 50
        },
        "outputId": "5ede437a-10ca-4627-ebca-5ffffa25caea"
      },
      "cell_type": "code",
      "source": [
        "max_features = 20000\n",
        "maxlen = 80\n",
        "batch_size = 32\n",
        "(x_train, y_train), (x_test, y_test) = imdb.load_data(num_words=max_features)\n",
        "print(len(x_train), 'train sequences')\n",
        "print(len(x_test), 'test sequences')"
      ],
      "execution_count": 5,
      "outputs": [
        {
          "output_type": "stream",
          "text": [
            "25000 train sequences\n",
            "25000 test sequences\n"
          ],
          "name": "stdout"
        }
      ]
    },
    {
      "metadata": {
        "id": "DQ00qOozrO7q",
        "colab_type": "code",
        "colab": {
          "base_uri": "https://localhost:8080/",
          "height": 134
        },
        "outputId": "f7af2f77-a2ec-46f2-a849-9595083ec910"
      },
      "cell_type": "code",
      "source": [
        "print(x_train[0],y_train[0])"
      ],
      "execution_count": 10,
      "outputs": [
        {
          "output_type": "stream",
          "text": [
            "[   15   256     4     2     7  3766     5   723    36    71    43   530\n",
            "   476    26   400   317    46     7     4 12118  1029    13   104    88\n",
            "     4   381    15   297    98    32  2071    56    26   141     6   194\n",
            "  7486    18     4   226    22    21   134   476    26   480     5   144\n",
            "    30  5535    18    51    36    28   224    92    25   104     4   226\n",
            "    65    16    38  1334    88    12    16   283     5    16  4472   113\n",
            "   103    32    15    16  5345    19   178    32] 1\n"
          ],
          "name": "stdout"
        }
      ]
    },
    {
      "metadata": {
        "id": "G7X6jNKfqFbN",
        "colab_type": "code",
        "colab": {
          "base_uri": "https://localhost:8080/",
          "height": 50
        },
        "outputId": "73a31b64-bb78-4d3a-bbc6-8fcc206cc1af"
      },
      "cell_type": "code",
      "source": [
        "x_train = sequence.pad_sequences(x_train, maxlen=maxlen)\n",
        "x_test = sequence.pad_sequences(x_test, maxlen=maxlen)\n",
        "print('x_train shape: ', x_train.shape)\n",
        "print('x_test shape: ', x_test.shape)"
      ],
      "execution_count": 6,
      "outputs": [
        {
          "output_type": "stream",
          "text": [
            "x_train shape:  (25000, 80)\n",
            "x_test shape:  (25000, 80)\n"
          ],
          "name": "stdout"
        }
      ]
    },
    {
      "metadata": {
        "id": "UiFO8Zqhrhyy",
        "colab_type": "code",
        "colab": {
          "base_uri": "https://localhost:8080/",
          "height": 134
        },
        "outputId": "f7a3ba6b-d0a3-40c0-b363-506117be32a4"
      },
      "cell_type": "code",
      "source": [
        "print(x_train[0],y_train[0])"
      ],
      "execution_count": 11,
      "outputs": [
        {
          "output_type": "stream",
          "text": [
            "[   15   256     4     2     7  3766     5   723    36    71    43   530\n",
            "   476    26   400   317    46     7     4 12118  1029    13   104    88\n",
            "     4   381    15   297    98    32  2071    56    26   141     6   194\n",
            "  7486    18     4   226    22    21   134   476    26   480     5   144\n",
            "    30  5535    18    51    36    28   224    92    25   104     4   226\n",
            "    65    16    38  1334    88    12    16   283     5    16  4472   113\n",
            "   103    32    15    16  5345    19   178    32] 1\n"
          ],
          "name": "stdout"
        }
      ]
    },
    {
      "metadata": {
        "id": "eVzOi1KiiKPh",
        "colab_type": "code",
        "colab": {
          "base_uri": "https://localhost:8080/",
          "height": 154
        },
        "outputId": "916f7e35-9e9e-416e-f4c9-cca495b327c2"
      },
      "cell_type": "code",
      "source": [
        "model = Sequential()\n",
        "model.add(Embedding(max_features, 128))\n",
        "model.add(LSTM(128, dropout=0.2, recurrent_dropout=0.2))\n",
        "model.add(Dense(1, activation='sigmoid'))\n",
        "model.compile(loss='binary_crossentropy',optimizer='adam',metrics=['accuracy'])"
      ],
      "execution_count": 3,
      "outputs": [
        {
          "output_type": "stream",
          "text": [
            "Build model...\n",
            "WARNING:tensorflow:From /usr/local/lib/python3.6/dist-packages/tensorflow/python/framework/op_def_library.py:263: colocate_with (from tensorflow.python.framework.ops) is deprecated and will be removed in a future version.\n",
            "Instructions for updating:\n",
            "Colocations handled automatically by placer.\n",
            "WARNING:tensorflow:From /usr/local/lib/python3.6/dist-packages/keras/backend/tensorflow_backend.py:3445: calling dropout (from tensorflow.python.ops.nn_ops) with keep_prob is deprecated and will be removed in a future version.\n",
            "Instructions for updating:\n",
            "Please use `rate` instead of `keep_prob`. Rate should be set to `rate = 1 - keep_prob`.\n"
          ],
          "name": "stdout"
        }
      ]
    },
    {
      "metadata": {
        "id": "o4nFujARiSnp",
        "colab_type": "code",
        "colab": {
          "base_uri": "https://localhost:8080/",
          "height": 675
        },
        "outputId": "9fadcf74-74c1-4603-d0cd-5a9ac71ddf8c"
      },
      "cell_type": "code",
      "source": [
        "model.fit(x_train, y_train,batch_size=batch_size,epochs=15,validation_data=(x_test, y_test))\n",
        "score, acc = model.evaluate(x_test, y_test,batch_size=batch_size)\n",
        "print('Test score:', score)\n",
        "print('Test accuracy:', acc)"
      ],
      "execution_count": 4,
      "outputs": [
        {
          "output_type": "stream",
          "text": [
            "Train...\n",
            "WARNING:tensorflow:From /usr/local/lib/python3.6/dist-packages/tensorflow/python/ops/math_ops.py:3066: to_int32 (from tensorflow.python.ops.math_ops) is deprecated and will be removed in a future version.\n",
            "Instructions for updating:\n",
            "Use tf.cast instead.\n",
            "Train on 25000 samples, validate on 25000 samples\n",
            "Epoch 1/15\n",
            "25000/25000 [==============================] - 151s 6ms/step - loss: 0.4634 - acc: 0.7802 - val_loss: 0.3959 - val_acc: 0.8281\n",
            "Epoch 2/15\n",
            "25000/25000 [==============================] - 147s 6ms/step - loss: 0.3039 - acc: 0.8768 - val_loss: 0.3754 - val_acc: 0.8338\n",
            "Epoch 3/15\n",
            "25000/25000 [==============================] - 147s 6ms/step - loss: 0.2215 - acc: 0.9148 - val_loss: 0.4261 - val_acc: 0.8321\n",
            "Epoch 4/15\n",
            "25000/25000 [==============================] - 146s 6ms/step - loss: 0.1616 - acc: 0.9402 - val_loss: 0.5119 - val_acc: 0.8275\n",
            "Epoch 5/15\n",
            "25000/25000 [==============================] - 147s 6ms/step - loss: 0.1147 - acc: 0.9583 - val_loss: 0.6179 - val_acc: 0.8148\n",
            "Epoch 6/15\n",
            "25000/25000 [==============================] - 147s 6ms/step - loss: 0.0821 - acc: 0.9718 - val_loss: 0.6210 - val_acc: 0.8242\n",
            "Epoch 7/15\n",
            "25000/25000 [==============================] - 147s 6ms/step - loss: 0.0603 - acc: 0.9799 - val_loss: 0.7330 - val_acc: 0.8157\n",
            "Epoch 8/15\n",
            "25000/25000 [==============================] - 145s 6ms/step - loss: 0.0473 - acc: 0.9839 - val_loss: 0.7791 - val_acc: 0.8154\n",
            "Epoch 9/15\n",
            "25000/25000 [==============================] - 146s 6ms/step - loss: 0.0349 - acc: 0.9882 - val_loss: 0.9367 - val_acc: 0.8073\n",
            "Epoch 10/15\n",
            "25000/25000 [==============================] - 145s 6ms/step - loss: 0.0269 - acc: 0.9916 - val_loss: 0.9787 - val_acc: 0.8118\n",
            "Epoch 11/15\n",
            "25000/25000 [==============================] - 146s 6ms/step - loss: 0.0204 - acc: 0.9936 - val_loss: 0.9268 - val_acc: 0.8146\n",
            "Epoch 12/15\n",
            "25000/25000 [==============================] - 146s 6ms/step - loss: 0.0144 - acc: 0.9954 - val_loss: 1.1202 - val_acc: 0.8118\n",
            "Epoch 13/15\n",
            "25000/25000 [==============================] - 146s 6ms/step - loss: 0.0139 - acc: 0.9962 - val_loss: 1.1180 - val_acc: 0.8120\n",
            "Epoch 14/15\n",
            "25000/25000 [==============================] - 145s 6ms/step - loss: 0.0120 - acc: 0.9962 - val_loss: 1.1370 - val_acc: 0.8107\n",
            "Epoch 15/15\n",
            "25000/25000 [==============================] - 145s 6ms/step - loss: 0.0136 - acc: 0.9956 - val_loss: 1.0945 - val_acc: 0.8080\n",
            "25000/25000 [==============================] - 28s 1ms/step\n",
            "Test score: 1.0945203519678115\n",
            "Test accuracy: 0.808\n"
          ],
          "name": "stdout"
        }
      ]
    }
  ]
}
