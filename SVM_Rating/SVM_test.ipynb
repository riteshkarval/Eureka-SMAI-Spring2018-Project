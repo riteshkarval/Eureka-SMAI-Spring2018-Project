{
 "cells": [
  {
   "cell_type": "code",
   "execution_count": 11,
   "metadata": {},
   "outputs": [],
   "source": [
    "from sklearn.feature_extraction.text import TfidfVectorizer, CountVectorizer\n",
    "from sklearn.model_selection import train_test_split\n",
    "from sklearn.svm import LinearSVC, SVC\n",
    "from sklearn.linear_model import SGDClassifier\n",
    "from sklearn.metrics import accuracy_score, classification_report, confusion_matrix\n",
    "import pandas as pd\n",
    "import numpy as np\n",
    "import statistics\n",
    "import pickle\n",
    "from numpy.random import shuffle\n",
    "from random import randint"
   ]
  },
  {
   "cell_type": "code",
   "execution_count": 12,
   "metadata": {},
   "outputs": [],
   "source": [
    "SVM_model = pickle.load(open('SVM.model', 'rb'))\n",
    "vect_model = pickle.load(open('vect.model', 'rb'))"
   ]
  },
  {
   "cell_type": "code",
   "execution_count": 13,
   "metadata": {},
   "outputs": [],
   "source": [
    "with open('../reviews.pkl', 'rb') as handle:\n",
    "    data = pickle.load(handle)\n",
    "titles = list(data.keys())\n",
    "shuffle(titles)\n",
    "train_titles = titles[:250]\n",
    "test_titles = titles[250:]"
   ]
  },
  {
   "cell_type": "code",
   "execution_count": 56,
   "metadata": {},
   "outputs": [
    {
     "name": "stdout",
     "output_type": "stream",
     "text": [
      "Movie Title:  Stalker (1979)\n",
      "=====>Actual Rating: 6.608695652173913\n",
      "=====>SVM rating: 7.217391304347826\n",
      "\n",
      "\n"
     ]
    }
   ],
   "source": [
    "index = randint(0, len(test_titles)-1)\n",
    "reviews = []\n",
    "ratings = []\n",
    "r_pair = data[test_titles[index]]\n",
    "for each_pair in r_pair:\n",
    "    if each_pair[1] != '0':\n",
    "        reviews.append(each_pair[0])\n",
    "        ratings.append(int(each_pair[1]))\n",
    "if len(reviews) > 1:\n",
    "    X = vect_model.transform(reviews)\n",
    "    preds = SVM_model.predict(X)\n",
    "    print('Movie Title: ', test_titles[index])\n",
    "    print('=====>Actual Rating:',statistics.mean(ratings))\n",
    "    print('=====>SVM rating:',np.mean(preds))\n",
    "    print('\\n')"
   ]
  },
  {
   "cell_type": "code",
   "execution_count": 61,
   "metadata": {},
   "outputs": [
    {
     "name": "stdout",
     "output_type": "stream",
     "text": [
      "I have no problem with female heroes but Captain Marvel was a man. Make a new one if you must but don't change the main idea. Also how can they spend so much money to make a movie and then most of the film is dark?\n",
      "[1]\n"
     ]
    }
   ],
   "source": [
    "rev = input()\n",
    "vec = vect_model.transform([rev])\n",
    "print(SVM_model.predict(vec))"
   ]
  }
 ],
 "metadata": {
  "kernelspec": {
   "display_name": "Python 3",
   "language": "python",
   "name": "python3"
  },
  "language_info": {
   "codemirror_mode": {
    "name": "ipython",
    "version": 3
   },
   "file_extension": ".py",
   "mimetype": "text/x-python",
   "name": "python",
   "nbconvert_exporter": "python",
   "pygments_lexer": "ipython3",
   "version": "3.6.7"
  }
 },
 "nbformat": 4,
 "nbformat_minor": 2
}
