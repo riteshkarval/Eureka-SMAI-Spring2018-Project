{
 "cells": [
  {
   "cell_type": "code",
   "execution_count": 89,
   "metadata": {},
   "outputs": [],
   "source": [
    "from sklearn.feature_extraction.text import TfidfVectorizer, CountVectorizer\n",
    "from sklearn.model_selection import train_test_split\n",
    "from sklearn.svm import LinearSVC, SVC\n",
    "from sklearn.linear_model import SGDClassifier\n",
    "from sklearn.metrics import accuracy_score, classification_report, confusion_matrix\n",
    "import pandas as pd\n",
    "import numpy as np\n",
    "import statistics\n",
    "import pickle\n",
    "from numpy.random import shuffle\n",
    "from random import randint"
   ]
  },
  {
   "cell_type": "code",
   "execution_count": 90,
   "metadata": {},
   "outputs": [],
   "source": [
    "SVM_model = pickle.load(open('SVM.model', 'rb'))\n",
    "vect_model = pickle.load(open('vect.model', 'rb'))"
   ]
  },
  {
   "cell_type": "code",
   "execution_count": 91,
   "metadata": {},
   "outputs": [],
   "source": [
    "acting_genre = ['acting','actor','adjutant','alternate','assistant',\n",
    "                'delegated','deputy','interim','surrogate',\n",
    "                'temporary','ad interim','pro tem','pro tempore',\n",
    "                'actor','role','cast','provisional']\n",
    "direction_genre = ['director','direction']\n",
    "song_genre = ['song','anthem','lyrics','chant','music']"
   ]
  },
  {
   "cell_type": "code",
   "execution_count": 92,
   "metadata": {},
   "outputs": [],
   "source": [
    "with open('../reviews.pkl', 'rb') as handle:\n",
    "    data = pickle.load(handle)\n",
    "titles = list(data.keys())\n",
    "shuffle(titles)\n",
    "train_titles = titles[:250]\n",
    "test_titles = titles[250:]"
   ]
  },
  {
   "cell_type": "code",
   "execution_count": 96,
   "metadata": {},
   "outputs": [
    {
     "name": "stdout",
     "output_type": "stream",
     "text": [
      "Movie Title:  Rashomon (1950)\n",
      "=====>Actual Rating: 8.473684210526315\n",
      "=====>SVM rating: 9.052631578947368\n",
      "=======>Acting: 8.421052631578947\n",
      "=======>Direction: 9.444444444444445\n",
      "=======>Song: 9.75\n",
      "\n",
      "\n"
     ]
    }
   ],
   "source": [
    "index = randint(0, len(test_titles)-1)\n",
    "reviews = []\n",
    "ratings = []\n",
    "r_pair = data[test_titles[index]]\n",
    "for each_pair in r_pair:\n",
    "    if each_pair[1] != '0':\n",
    "        reviews.append(each_pair[0])\n",
    "        ratings.append(int(each_pair[1]))\n",
    "        \n",
    "if len(reviews) > 0:\n",
    "    X = vect_model.transform(reviews)\n",
    "    preds = SVM_model.predict(X)\n",
    "    print('Movie Title: ', test_titles[index])\n",
    "    print('=====>Actual Rating:',statistics.mean(ratings))\n",
    "    print('=====>SVM rating:',np.mean(preds))\n",
    "    \n",
    "acting_reviws = [revw for revw in reviews for word in acting_genre if word in revw.lower()]\n",
    "direction_reviws = [revw for revw in reviews for word in direction_genre if word in revw.lower()]\n",
    "song_reviws = [revw for revw in reviews for word in song_genre if word in revw.lower()]\n",
    "acting_reviws = [revw for revw in reviews for word in acting_genre if word in revw.lower()]\n",
    "if len(acting_reviws) > 0:\n",
    "    X = vect_model.transform(acting_reviws)\n",
    "    preds = SVM_model.predict(X)\n",
    "    print('=======>Acting:',np.mean(preds))\n",
    "    \n",
    "if len(direction_reviws) > 0:\n",
    "    X = vect_model.transform(direction_reviws)\n",
    "    preds = SVM_model.predict(X)\n",
    "    print('=======>Direction:',np.mean(preds))\n",
    "    \n",
    "if len(song_reviws) > 0:\n",
    "    X = vect_model.transform(song_reviws)\n",
    "    preds = SVM_model.predict(X)\n",
    "    print('=======>Song:',np.mean(preds))\n",
    "    \n",
    "print('\\n')"
   ]
  },
  {
   "cell_type": "code",
   "execution_count": 80,
   "metadata": {},
   "outputs": [
    {
     "name": "stdout",
     "output_type": "stream",
     "text": [
      "I have no problem with female heroes but Captain Marvel was a man. Make a new one if you must but don't change the main idea. Also how can they spend so much money to make a movie and then most of the film is dark?\n",
      "[1]\n"
     ]
    }
   ],
   "source": [
    "rev = input()\n",
    "vec = vect_model.transform([rev])\n",
    "print(SVM_model.predict(vec))"
   ]
  }
 ],
 "metadata": {
  "kernelspec": {
   "display_name": "Python 3",
   "language": "python",
   "name": "python3"
  },
  "language_info": {
   "codemirror_mode": {
    "name": "ipython",
    "version": 3
   },
   "file_extension": ".py",
   "mimetype": "text/x-python",
   "name": "python",
   "nbconvert_exporter": "python",
   "pygments_lexer": "ipython3",
   "version": "3.6.7"
  }
 },
 "nbformat": 4,
 "nbformat_minor": 2
}
